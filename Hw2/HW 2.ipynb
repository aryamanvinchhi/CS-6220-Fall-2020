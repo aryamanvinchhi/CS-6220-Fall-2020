{
 "cells": [
  {
   "cell_type": "code",
   "execution_count": 1,
   "metadata": {
    "ExecuteTime": {
     "end_time": "2020-09-18T13:41:45.814106Z",
     "start_time": "2020-09-18T13:41:37.330965Z"
    }
   },
   "outputs": [
    {
     "name": "stderr",
     "output_type": "stream",
     "text": [
      "Using TensorFlow backend.\n"
     ]
    }
   ],
   "source": [
    "import numpy as np\n",
    "import pandas as pd \n",
    "from keras.preprocessing.image import ImageDataGenerator, load_img\n",
    "from keras.utils import to_categorical\n",
    "from sklearn.model_selection import train_test_split\n",
    "import matplotlib.pyplot as plt\n",
    "import random\n",
    "import os\n",
    "from sklearn.metrics import accuracy_score"
   ]
  },
  {
   "cell_type": "code",
   "execution_count": 2,
   "metadata": {
    "ExecuteTime": {
     "end_time": "2020-09-18T13:41:45.819565Z",
     "start_time": "2020-09-18T13:41:45.816484Z"
    }
   },
   "outputs": [],
   "source": [
    "from keras.models import Sequential\n",
    "from keras.layers import Conv2D, MaxPooling2D, Dropout, Flatten, Dense, Activation, BatchNormalization"
   ]
  },
  {
   "cell_type": "code",
   "execution_count": 3,
   "metadata": {
    "ExecuteTime": {
     "end_time": "2020-09-18T13:41:45.824708Z",
     "start_time": "2020-09-18T13:41:45.822039Z"
    }
   },
   "outputs": [],
   "source": [
    "import pickle"
   ]
  },
  {
   "cell_type": "code",
   "execution_count": 7,
   "metadata": {
    "ExecuteTime": {
     "end_time": "2020-09-18T13:41:45.852827Z",
     "start_time": "2020-09-18T13:41:45.849983Z"
    }
   },
   "outputs": [],
   "source": [
    "from keras.callbacks import EarlyStopping, ReduceLROnPlateau"
   ]
  },
  {
   "cell_type": "code",
   "execution_count": 8,
   "metadata": {
    "ExecuteTime": {
     "end_time": "2020-09-18T13:41:45.860550Z",
     "start_time": "2020-09-18T13:41:45.855787Z"
    }
   },
   "outputs": [
    {
     "name": "stdout",
     "output_type": "stream",
     "text": [
      "['.DS_Store', 'test1', 'outliers', 'train']\n"
     ]
    }
   ],
   "source": [
    "print(os.listdir(\"Data\"))"
   ]
  },
  {
   "cell_type": "code",
   "execution_count": 9,
   "metadata": {
    "ExecuteTime": {
     "end_time": "2020-09-18T13:41:45.867987Z",
     "start_time": "2020-09-18T13:41:45.863033Z"
    }
   },
   "outputs": [],
   "source": [
    "#Constants\n",
    "FAST_RUN = True\n",
    "IMAGE_SIZE_128=(128, 128)\n",
    "IMAGE_SIZE_64=(64, 64)\n",
    "IMAGE_CHANNELS=3"
   ]
  },
  {
   "cell_type": "code",
   "execution_count": 10,
   "metadata": {
    "ExecuteTime": {
     "end_time": "2020-09-18T13:41:45.878387Z",
     "start_time": "2020-09-18T13:41:45.870204Z"
    }
   },
   "outputs": [],
   "source": [
    "earlystop = EarlyStopping(patience=10)\n",
    "learning_rate_reduction = ReduceLROnPlateau(monitor='val_acc', \n",
    "                                            patience=2, \n",
    "                                            verbose=1, \n",
    "                                            factor=0.5, \n",
    "                                            min_lr=0.00001)\n",
    "callbacks = [earlystop, learning_rate_reduction]\n",
    "batch_size=18"
   ]
  },
  {
   "cell_type": "code",
   "execution_count": 11,
   "metadata": {
    "ExecuteTime": {
     "end_time": "2020-09-18T13:41:46.065629Z",
     "start_time": "2020-09-18T13:41:45.880647Z"
    }
   },
   "outputs": [],
   "source": [
    "filenames = os.listdir(\"Data/train\")\n",
    "categories = []\n",
    "for filename in filenames:\n",
    "    category = filename.split('.')[0]\n",
    "    if category == 'dog':\n",
    "        categories.append(1)\n",
    "    else:\n",
    "        categories.append(0)\n",
    "\n",
    "df = pd.DataFrame({\n",
    "    'filename': filenames,\n",
    "    'category': categories\n",
    "})"
   ]
  },
  {
   "cell_type": "code",
   "execution_count": 12,
   "metadata": {
    "ExecuteTime": {
     "end_time": "2020-09-18T13:41:46.075396Z",
     "start_time": "2020-09-18T13:41:46.068676Z"
    }
   },
   "outputs": [
    {
     "data": {
      "text/plain": [
       "(25000, 2)"
      ]
     },
     "execution_count": 12,
     "metadata": {},
     "output_type": "execute_result"
    }
   ],
   "source": [
    "df.shape"
   ]
  },
  {
   "cell_type": "code",
   "execution_count": 13,
   "metadata": {
    "ExecuteTime": {
     "end_time": "2020-09-18T13:41:46.119565Z",
     "start_time": "2020-09-18T13:41:46.078083Z"
    }
   },
   "outputs": [],
   "source": [
    "df[\"category\"] = df[\"category\"].replace({0: 'cat', 1: 'dog'}) "
   ]
  },
  {
   "cell_type": "code",
   "execution_count": 14,
   "metadata": {
    "ExecuteTime": {
     "end_time": "2020-09-18T13:41:46.126592Z",
     "start_time": "2020-09-18T13:41:46.121177Z"
    }
   },
   "outputs": [
    {
     "data": {
      "text/plain": [
       "(1000, 2)"
      ]
     },
     "execution_count": 14,
     "metadata": {},
     "output_type": "execute_result"
    }
   ],
   "source": [
    "df_small = df[:1000]\n",
    "df_small.shape"
   ]
  },
  {
   "cell_type": "code",
   "execution_count": 15,
   "metadata": {
    "ExecuteTime": {
     "end_time": "2020-09-18T13:41:46.148445Z",
     "start_time": "2020-09-18T13:41:46.128268Z"
    }
   },
   "outputs": [],
   "source": [
    "small_train_df, small_validate_df = train_test_split(df_small, test_size=0.20, random_state=42)\n",
    "small_train_df = small_train_df.reset_index(drop=True)\n",
    "small_validate_df = small_validate_df.reset_index(drop=True)"
   ]
  },
  {
   "cell_type": "code",
   "execution_count": 16,
   "metadata": {
    "ExecuteTime": {
     "end_time": "2020-09-18T13:41:46.155119Z",
     "start_time": "2020-09-18T13:41:46.150504Z"
    }
   },
   "outputs": [],
   "source": [
    "total_small_train = small_train_df.shape[0]\n",
    "total_small_validate = small_validate_df.shape[0]"
   ]
  },
  {
   "cell_type": "code",
   "execution_count": 17,
   "metadata": {
    "ExecuteTime": {
     "end_time": "2020-09-18T13:41:46.161736Z",
     "start_time": "2020-09-18T13:41:46.157703Z"
    }
   },
   "outputs": [
    {
     "data": {
      "text/plain": [
       "(800, 200)"
      ]
     },
     "execution_count": 17,
     "metadata": {},
     "output_type": "execute_result"
    }
   ],
   "source": [
    "total_small_train, total_small_validate"
   ]
  },
  {
   "cell_type": "code",
   "execution_count": 18,
   "metadata": {
    "ExecuteTime": {
     "end_time": "2020-09-18T13:41:46.169382Z",
     "start_time": "2020-09-18T13:41:46.163364Z"
    }
   },
   "outputs": [
    {
     "data": {
      "text/plain": [
       "(10000, 2)"
      ]
     },
     "execution_count": 18,
     "metadata": {},
     "output_type": "execute_result"
    }
   ],
   "source": [
    "df_large = df[:10000]\n",
    "df_large.shape"
   ]
  },
  {
   "cell_type": "code",
   "execution_count": 19,
   "metadata": {
    "ExecuteTime": {
     "end_time": "2020-09-18T13:41:46.178232Z",
     "start_time": "2020-09-18T13:41:46.171026Z"
    }
   },
   "outputs": [],
   "source": [
    "large_train_df, large_validate_df = train_test_split(df_large, test_size=0.20, random_state=42)\n",
    "large_train_df = large_train_df.reset_index(drop=True)\n",
    "large_validate_df = large_validate_df.reset_index(drop=True)"
   ]
  },
  {
   "cell_type": "code",
   "execution_count": 20,
   "metadata": {
    "ExecuteTime": {
     "end_time": "2020-09-18T13:41:46.182484Z",
     "start_time": "2020-09-18T13:41:46.179632Z"
    }
   },
   "outputs": [],
   "source": [
    "total_large_train = large_train_df.shape[0]\n",
    "total_large_validate = large_validate_df.shape[0]"
   ]
  },
  {
   "cell_type": "code",
   "execution_count": 21,
   "metadata": {
    "ExecuteTime": {
     "end_time": "2020-09-18T13:41:46.187966Z",
     "start_time": "2020-09-18T13:41:46.184244Z"
    }
   },
   "outputs": [
    {
     "data": {
      "text/plain": [
       "(8000, 2000)"
      ]
     },
     "execution_count": 21,
     "metadata": {},
     "output_type": "execute_result"
    }
   ],
   "source": [
    "total_large_train, total_large_validate"
   ]
  },
  {
   "cell_type": "markdown",
   "metadata": {},
   "source": [
    "# 64x64 Resolution"
   ]
  },
  {
   "cell_type": "markdown",
   "metadata": {},
   "source": [
    "## Model 1 - small dataset"
   ]
  },
  {
   "cell_type": "code",
   "execution_count": 22,
   "metadata": {
    "ExecuteTime": {
     "end_time": "2020-09-18T13:41:49.169269Z",
     "start_time": "2020-09-18T13:41:49.076066Z"
    }
   },
   "outputs": [
    {
     "name": "stdout",
     "output_type": "stream",
     "text": [
      "Found 800 validated image filenames belonging to 2 classes.\n"
     ]
    }
   ],
   "source": [
    "small_train_datagen = ImageDataGenerator(\n",
    "    rotation_range=15,\n",
    "    rescale=1./255,\n",
    "    shear_range=0.1,\n",
    "    zoom_range=0.2,\n",
    "    horizontal_flip=True,\n",
    "    width_shift_range=0.1,\n",
    "    height_shift_range=0.1\n",
    ")\n",
    "\n",
    "small_train_generator = small_train_datagen.flow_from_dataframe(\n",
    "    small_train_df, \n",
    "    \"Data/train/\", \n",
    "    x_col='filename',\n",
    "    y_col='category',\n",
    "    target_size=IMAGE_SIZE_64,\n",
    "    class_mode='categorical',\n",
    "    batch_size=batch_size\n",
    ")"
   ]
  },
  {
   "cell_type": "code",
   "execution_count": 23,
   "metadata": {
    "ExecuteTime": {
     "end_time": "2020-09-18T13:41:49.365364Z",
     "start_time": "2020-09-18T13:41:49.320637Z"
    }
   },
   "outputs": [
    {
     "name": "stdout",
     "output_type": "stream",
     "text": [
      "Found 200 validated image filenames belonging to 2 classes.\n"
     ]
    }
   ],
   "source": [
    "small_validation_datagen = ImageDataGenerator(rescale=1./255)\n",
    "small_validation_generator = small_validation_datagen.flow_from_dataframe(\n",
    "    small_validate_df, \n",
    "    \"Data/train/\", \n",
    "    x_col='filename',\n",
    "    y_col='category',\n",
    "    target_size=IMAGE_SIZE_64,\n",
    "    class_mode='categorical',\n",
    "    batch_size=batch_size\n",
    ")"
   ]
  },
  {
   "cell_type": "code",
   "execution_count": 32,
   "metadata": {
    "ExecuteTime": {
     "end_time": "2020-09-18T13:42:46.818613Z",
     "start_time": "2020-09-18T13:42:46.672238Z"
    }
   },
   "outputs": [],
   "source": [
    "x,y = small_train_generator.next()"
   ]
  },
  {
   "cell_type": "code",
   "execution_count": 33,
   "metadata": {
    "ExecuteTime": {
     "end_time": "2020-09-18T13:42:47.083723Z",
     "start_time": "2020-09-18T13:42:46.898834Z"
    }
   },
   "outputs": [
    {
     "data": {
      "text/plain": [
       "<matplotlib.image.AxesImage at 0x1a2f2e4cf8>"
      ]
     },
     "execution_count": 33,
     "metadata": {},
     "output_type": "execute_result"
    },
    {
     "data": {
      "image/png": "[encoded data removed]",
      "text/plain": [
       "<Figure size 432x288 with 1 Axes>"
      ]
     },
     "metadata": {
      "needs_background": "light"
     },
     "output_type": "display_data"
    }
   ],
   "source": [
    "plt.imshow(x[0])"
   ]
  },
  {
   "cell_type": "code",
   "execution_count": 23,
   "metadata": {
    "ExecuteTime": {
     "end_time": "2020-09-16T20:37:51.754706Z",
     "start_time": "2020-09-16T20:37:51.088442Z"
    }
   },
   "outputs": [
    {
     "name": "stderr",
     "output_type": "stream",
     "text": [
      "WARNING: Logging before flag parsing goes to stderr.\n",
      "W0916 16:37:51.094666 140735779607360 deprecation_wrapper.py:119] From /anaconda3/lib/python3.7/site-packages/keras/backend/tensorflow_backend.py:74: The name tf.get_default_graph is deprecated. Please use tf.compat.v1.get_default_graph instead.\n",
      "\n",
      "W0916 16:37:51.110058 140735779607360 deprecation_wrapper.py:119] From /anaconda3/lib/python3.7/site-packages/keras/backend/tensorflow_backend.py:517: The name tf.placeholder is deprecated. Please use tf.compat.v1.placeholder instead.\n",
      "\n",
      "W0916 16:37:51.112634 140735779607360 deprecation_wrapper.py:119] From /anaconda3/lib/python3.7/site-packages/keras/backend/tensorflow_backend.py:4138: The name tf.random_uniform is deprecated. Please use tf.random.uniform instead.\n",
      "\n",
      "W0916 16:37:51.136970 140735779607360 deprecation_wrapper.py:119] From /anaconda3/lib/python3.7/site-packages/keras/backend/tensorflow_backend.py:174: The name tf.get_default_session is deprecated. Please use tf.compat.v1.get_default_session instead.\n",
      "\n",
      "W0916 16:37:51.137814 140735779607360 deprecation_wrapper.py:119] From /anaconda3/lib/python3.7/site-packages/keras/backend/tensorflow_backend.py:181: The name tf.ConfigProto is deprecated. Please use tf.compat.v1.ConfigProto instead.\n",
      "\n",
      "W0916 16:37:51.166558 140735779607360 deprecation_wrapper.py:119] From /anaconda3/lib/python3.7/site-packages/keras/backend/tensorflow_backend.py:1834: The name tf.nn.fused_batch_norm is deprecated. Please use tf.compat.v1.nn.fused_batch_norm instead.\n",
      "\n",
      "W0916 16:37:51.239986 140735779607360 deprecation_wrapper.py:119] From /anaconda3/lib/python3.7/site-packages/keras/backend/tensorflow_backend.py:3976: The name tf.nn.max_pool is deprecated. Please use tf.nn.max_pool2d instead.\n",
      "\n",
      "W0916 16:37:51.249182 140735779607360 deprecation.py:506] From /anaconda3/lib/python3.7/site-packages/keras/backend/tensorflow_backend.py:3445: calling dropout (from tensorflow.python.ops.nn_ops) with keep_prob is deprecated and will be removed in a future version.\n",
      "Instructions for updating:\n",
      "Please use `rate` instead of `keep_prob`. Rate should be set to `rate = 1 - keep_prob`.\n",
      "W0916 16:37:51.712772 140735779607360 deprecation_wrapper.py:119] From /anaconda3/lib/python3.7/site-packages/keras/optimizers.py:790: The name tf.train.Optimizer is deprecated. Please use tf.compat.v1.train.Optimizer instead.\n",
      "\n"
     ]
    },
    {
     "name": "stdout",
     "output_type": "stream",
     "text": [
      "_________________________________________________________________\n",
      "Layer (type)                 Output Shape              Param #   \n",
      "=================================================================\n",
      "conv2d_1 (Conv2D)            (None, 62, 62, 32)        896       \n",
      "_________________________________________________________________\n",
      "batch_normalization_1 (Batch (None, 62, 62, 32)        128       \n",
      "_________________________________________________________________\n",
      "max_pooling2d_1 (MaxPooling2 (None, 31, 31, 32)        0         \n",
      "_________________________________________________________________\n",
      "dropout_1 (Dropout)          (None, 31, 31, 32)        0         \n",
      "_________________________________________________________________\n",
      "conv2d_2 (Conv2D)            (None, 29, 29, 64)        18496     \n",
      "_________________________________________________________________\n",
      "batch_normalization_2 (Batch (None, 29, 29, 64)        256       \n",
      "_________________________________________________________________\n",
      "max_pooling2d_2 (MaxPooling2 (None, 14, 14, 64)        0         \n",
      "_________________________________________________________________\n",
      "dropout_2 (Dropout)          (None, 14, 14, 64)        0         \n",
      "_________________________________________________________________\n",
      "conv2d_3 (Conv2D)            (None, 12, 12, 128)       73856     \n",
      "_________________________________________________________________\n",
      "batch_normalization_3 (Batch (None, 12, 12, 128)       512       \n",
      "_________________________________________________________________\n",
      "max_pooling2d_3 (MaxPooling2 (None, 6, 6, 128)         0         \n",
      "_________________________________________________________________\n",
      "dropout_3 (Dropout)          (None, 6, 6, 128)         0         \n",
      "_________________________________________________________________\n",
      "flatten_1 (Flatten)          (None, 4608)              0         \n",
      "_________________________________________________________________\n",
      "dense_1 (Dense)              (None, 512)               2359808   \n",
      "_________________________________________________________________\n",
      "batch_normalization_4 (Batch (None, 512)               2048      \n",
      "_________________________________________________________________\n",
      "dropout_4 (Dropout)          (None, 512)               0         \n",
      "_________________________________________________________________\n",
      "dense_2 (Dense)              (None, 2)                 1026      \n",
      "=================================================================\n",
      "Total params: 2,457,026\n",
      "Trainable params: 2,455,554\n",
      "Non-trainable params: 1,472\n",
      "_________________________________________________________________\n"
     ]
    }
   ],
   "source": [
    "model = Sequential()\n",
    "\n",
    "model.add(Conv2D(32, (3, 3), activation='relu', input_shape=(64, 64, IMAGE_CHANNELS)))\n",
    "model.add(BatchNormalization())\n",
    "model.add(MaxPooling2D(pool_size=(2, 2)))\n",
    "model.add(Dropout(0.25))\n",
    "\n",
    "model.add(Conv2D(64, (3, 3), activation='relu'))\n",
    "model.add(BatchNormalization())\n",
    "model.add(MaxPooling2D(pool_size=(2, 2)))\n",
    "model.add(Dropout(0.25))\n",
    "\n",
    "model.add(Conv2D(128, (3, 3), activation='relu'))\n",
    "model.add(BatchNormalization())\n",
    "model.add(MaxPooling2D(pool_size=(2, 2)))\n",
    "model.add(Dropout(0.25))\n",
    "\n",
    "model.add(Flatten())\n",
    "model.add(Dense(512, activation='relu'))\n",
    "model.add(BatchNormalization())\n",
    "model.add(Dropout(0.5))\n",
    "model.add(Dense(2, activation='softmax')) # 2 because we have cat and dog classes\n",
    "\n",
    "model.compile(loss='categorical_crossentropy', optimizer='rmsprop', metrics=['accuracy'])\n",
    "\n",
    "model.summary()"
   ]
  },
  {
   "cell_type": "code",
   "execution_count": 24,
   "metadata": {
    "ExecuteTime": {
     "end_time": "2020-09-16T20:40:57.697018Z",
     "start_time": "2020-09-16T20:37:55.987132Z"
    }
   },
   "outputs": [
    {
     "name": "stderr",
     "output_type": "stream",
     "text": [
      "W0916 16:37:56.071732 140735779607360 deprecation.py:323] From /anaconda3/lib/python3.7/site-packages/tensorflow/python/ops/math_grad.py:1250: add_dispatch_support.<locals>.wrapper (from tensorflow.python.ops.array_ops) is deprecated and will be removed in a future version.\n",
      "Instructions for updating:\n",
      "Use tf.where in 2.0, which has the same broadcast rule as np.where\n"
     ]
    },
    {
     "name": "stdout",
     "output_type": "stream",
     "text": [
      "Epoch 1/25\n",
      "44/44 [==============================] - 11s 251ms/step - loss: 1.5996 - acc: 0.5167 - val_loss: 1.1530 - val_acc: 0.6061\n",
      "Epoch 2/25\n",
      "44/44 [==============================] - 11s 245ms/step - loss: 1.1135 - acc: 0.5758 - val_loss: 1.3997 - val_acc: 0.5330\n",
      "Epoch 3/25\n",
      "44/44 [==============================] - 10s 233ms/step - loss: 0.9454 - acc: 0.6099 - val_loss: 0.7092 - val_acc: 0.7198\n",
      "Epoch 4/25\n",
      "44/44 [==============================] - 10s 225ms/step - loss: 0.8782 - acc: 0.5942 - val_loss: 0.7999 - val_acc: 0.6429\n",
      "Epoch 5/25\n",
      "44/44 [==============================] - 10s 225ms/step - loss: 0.8060 - acc: 0.6314 - val_loss: 1.1214 - val_acc: 0.5275\n",
      "\n",
      "Epoch 00005: ReduceLROnPlateau reducing learning rate to 0.0005000000237487257.\n",
      "Epoch 6/25\n",
      "44/44 [==============================] - 10s 227ms/step - loss: 0.7398 - acc: 0.6278 - val_loss: 0.5943 - val_acc: 0.7582\n",
      "Epoch 7/25\n",
      "44/44 [==============================] - 11s 250ms/step - loss: 0.6657 - acc: 0.6789 - val_loss: 0.5874 - val_acc: 0.7363\n",
      "Epoch 8/25\n",
      "44/44 [==============================] - 11s 254ms/step - loss: 0.6772 - acc: 0.6723 - val_loss: 0.5687 - val_acc: 0.7088\n",
      "\n",
      "Epoch 00008: ReduceLROnPlateau reducing learning rate to 0.0002500000118743628.\n",
      "Epoch 9/25\n",
      "44/44 [==============================] - 10s 219ms/step - loss: 0.6512 - acc: 0.6960 - val_loss: 0.5716 - val_acc: 0.6978\n",
      "Epoch 10/25\n",
      "44/44 [==============================] - 9s 214ms/step - loss: 0.6337 - acc: 0.6740 - val_loss: 0.6355 - val_acc: 0.6593\n",
      "\n",
      "Epoch 00010: ReduceLROnPlateau reducing learning rate to 0.0001250000059371814.\n",
      "Epoch 11/25\n",
      "44/44 [==============================] - 9s 215ms/step - loss: 0.6117 - acc: 0.6834 - val_loss: 0.6121 - val_acc: 0.6264\n",
      "Epoch 12/25\n",
      "44/44 [==============================] - 10s 226ms/step - loss: 0.5621 - acc: 0.7219 - val_loss: 0.5868 - val_acc: 0.6868\n",
      "\n",
      "Epoch 00012: ReduceLROnPlateau reducing learning rate to 6.25000029685907e-05.\n",
      "Epoch 13/25\n",
      "44/44 [==============================] - 10s 217ms/step - loss: 0.5874 - acc: 0.7143 - val_loss: 0.6037 - val_acc: 0.6768\n",
      "Epoch 14/25\n",
      "44/44 [==============================] - 9s 216ms/step - loss: 0.5962 - acc: 0.7097 - val_loss: 0.6356 - val_acc: 0.6374\n",
      "\n",
      "Epoch 00014: ReduceLROnPlateau reducing learning rate to 3.125000148429535e-05.\n",
      "Epoch 15/25\n",
      "44/44 [==============================] - 10s 223ms/step - loss: 0.5664 - acc: 0.7320 - val_loss: 0.6163 - val_acc: 0.6374\n",
      "Epoch 16/25\n",
      "44/44 [==============================] - 10s 219ms/step - loss: 0.5339 - acc: 0.7279 - val_loss: 0.5687 - val_acc: 0.6758\n",
      "\n",
      "Epoch 00016: ReduceLROnPlateau reducing learning rate to 1.5625000742147677e-05.\n",
      "Epoch 17/25\n",
      "44/44 [==============================] - 10s 224ms/step - loss: 0.5466 - acc: 0.7109 - val_loss: 0.6412 - val_acc: 0.6154\n",
      "Epoch 18/25\n",
      "44/44 [==============================] - 10s 225ms/step - loss: 0.5575 - acc: 0.7301 - val_loss: 0.5895 - val_acc: 0.6923\n",
      "\n",
      "Epoch 00018: ReduceLROnPlateau reducing learning rate to 1e-05.\n"
     ]
    }
   ],
   "source": [
    "epochs=25 if FAST_RUN else 50\n",
    "history = model.fit_generator(\n",
    "    small_train_generator, \n",
    "    epochs=epochs,\n",
    "    validation_data=small_validation_generator,\n",
    "    validation_steps=total_small_validate//batch_size,\n",
    "    steps_per_epoch=total_small_train//batch_size,\n",
    "    callbacks=callbacks\n",
    ")"
   ]
  },
  {
   "cell_type": "code",
   "execution_count": 25,
   "metadata": {
    "ExecuteTime": {
     "end_time": "2020-09-16T20:40:58.216817Z",
     "start_time": "2020-09-16T20:40:57.699516Z"
    }
   },
   "outputs": [
    {
     "data": {
      "image/png": "[encoded data removed]",
      "text/plain": [
       "<Figure size 864x864 with 2 Axes>"
      ]
     },
     "metadata": {
      "needs_background": "light"
     },
     "output_type": "display_data"
    }
   ],
   "source": [
    "fig, (ax1, ax2) = plt.subplots(2, 1, figsize=(12, 12))\n",
    "ax1.plot(history.history['loss'], color='b', label=\"Training loss\")\n",
    "ax1.plot(history.history['val_loss'], color='r', label=\"validation loss\")\n",
    "ax1.set_xticks(np.arange(1, epochs, 1))\n",
    "ax1.set_yticks(np.arange(0, 1, 0.1))\n",
    "\n",
    "ax2.plot(history.history['acc'], color='b', label=\"Training accuracy\")\n",
    "ax2.plot(history.history['val_acc'], color='r',label=\"Validation accuracy\")\n",
    "ax2.set_xticks(np.arange(1, epochs, 1))\n",
    "\n",
    "legend = plt.legend(loc='best', shadow=True)\n",
    "plt.tight_layout()\n",
    "plt.show()"
   ]
  },
  {
   "cell_type": "markdown",
   "metadata": {},
   "source": [
    "### OUTLIER TESTING"
   ]
  },
  {
   "cell_type": "code",
   "execution_count": 26,
   "metadata": {
    "ExecuteTime": {
     "end_time": "2020-09-16T20:40:58.225685Z",
     "start_time": "2020-09-16T20:40:58.219605Z"
    }
   },
   "outputs": [],
   "source": [
    "test_filenames = os.listdir(\"Data/outliers\")\n",
    "test_df = pd.DataFrame({\n",
    "    'filename': test_filenames\n",
    "})\n",
    "nb_samples = test_df.shape[0]"
   ]
  },
  {
   "cell_type": "code",
   "execution_count": 27,
   "metadata": {
    "ExecuteTime": {
     "end_time": "2020-09-16T20:40:58.236660Z",
     "start_time": "2020-09-16T20:40:58.228352Z"
    }
   },
   "outputs": [
    {
     "name": "stdout",
     "output_type": "stream",
     "text": [
      "Found 5 validated image filenames.\n"
     ]
    }
   ],
   "source": [
    "test_gen = ImageDataGenerator(rescale=1./255)\n",
    "test_generator = test_gen.flow_from_dataframe(\n",
    "    test_df, \n",
    "    \"Data/outliers/\", \n",
    "    x_col='filename',\n",
    "    y_col=None,\n",
    "    class_mode=None,\n",
    "    target_size=IMAGE_SIZE_64,\n",
    "    batch_size=batch_size,\n",
    "    shuffle=False\n",
    ")"
   ]
  },
  {
   "cell_type": "code",
   "execution_count": 28,
   "metadata": {
    "ExecuteTime": {
     "end_time": "2020-09-16T20:40:58.547245Z",
     "start_time": "2020-09-16T20:40:58.239060Z"
    }
   },
   "outputs": [],
   "source": [
    "predict = model.predict_generator(test_generator, steps=np.ceil(nb_samples/batch_size))"
   ]
  },
  {
   "cell_type": "code",
   "execution_count": 29,
   "metadata": {
    "ExecuteTime": {
     "end_time": "2020-09-16T20:40:58.556834Z",
     "start_time": "2020-09-16T20:40:58.551545Z"
    }
   },
   "outputs": [],
   "source": [
    "results = np.argmax(predict, axis=-1)\n",
    "label_map = dict((v,k) for k,v in small_train_generator.class_indices.items())\n",
    "results = pd.DataFrame(results).replace(label_map)"
   ]
  },
  {
   "cell_type": "code",
   "execution_count": 30,
   "metadata": {
    "ExecuteTime": {
     "end_time": "2020-09-16T20:40:58.575778Z",
     "start_time": "2020-09-16T20:40:58.560074Z"
    }
   },
   "outputs": [
    {
     "data": {
      "text/html": [
       "<div>\n",
       "<style scoped>\n",
       "    .dataframe tbody tr th:only-of-type {\n",
       "        vertical-align: middle;\n",
       "    }\n",
       "\n",
       "    .dataframe tbody tr th {\n",
       "        vertical-align: top;\n",
       "    }\n",
       "\n",
       "    .dataframe thead th {\n",
       "        text-align: right;\n",
       "    }\n",
       "</style>\n",
       "<table border=\"1\" class=\"dataframe\">\n",
       "  <thead>\n",
       "    <tr style=\"text-align: right;\">\n",
       "      <th></th>\n",
       "      <th>filename</th>\n",
       "    </tr>\n",
       "  </thead>\n",
       "  <tbody>\n",
       "    <tr>\n",
       "      <th>0</th>\n",
       "      <td>km.jpg</td>\n",
       "    </tr>\n",
       "    <tr>\n",
       "      <th>1</th>\n",
       "      <td>pb.jpg</td>\n",
       "    </tr>\n",
       "    <tr>\n",
       "      <th>2</th>\n",
       "      <td>cr.jpg</td>\n",
       "    </tr>\n",
       "    <tr>\n",
       "      <th>3</th>\n",
       "      <td>dvdb.jpg</td>\n",
       "    </tr>\n",
       "    <tr>\n",
       "      <th>4</th>\n",
       "      <td>lm.jpg</td>\n",
       "    </tr>\n",
       "  </tbody>\n",
       "</table>\n",
       "</div>"
      ],
      "text/plain": [
       "   filename\n",
       "0    km.jpg\n",
       "1    pb.jpg\n",
       "2    cr.jpg\n",
       "3  dvdb.jpg\n",
       "4    lm.jpg"
      ]
     },
     "execution_count": 30,
     "metadata": {},
     "output_type": "execute_result"
    }
   ],
   "source": [
    "test_df.head()"
   ]
  },
  {
   "cell_type": "code",
   "execution_count": 31,
   "metadata": {
    "ExecuteTime": {
     "end_time": "2020-09-16T20:40:58.594115Z",
     "start_time": "2020-09-16T20:40:58.582981Z"
    }
   },
   "outputs": [
    {
     "data": {
      "text/html": [
       "<div>\n",
       "<style scoped>\n",
       "    .dataframe tbody tr th:only-of-type {\n",
       "        vertical-align: middle;\n",
       "    }\n",
       "\n",
       "    .dataframe tbody tr th {\n",
       "        vertical-align: top;\n",
       "    }\n",
       "\n",
       "    .dataframe thead th {\n",
       "        text-align: right;\n",
       "    }\n",
       "</style>\n",
       "<table border=\"1\" class=\"dataframe\">\n",
       "  <thead>\n",
       "    <tr style=\"text-align: right;\">\n",
       "      <th></th>\n",
       "      <th>0</th>\n",
       "    </tr>\n",
       "  </thead>\n",
       "  <tbody>\n",
       "    <tr>\n",
       "      <th>0</th>\n",
       "      <td>dog</td>\n",
       "    </tr>\n",
       "    <tr>\n",
       "      <th>1</th>\n",
       "      <td>dog</td>\n",
       "    </tr>\n",
       "    <tr>\n",
       "      <th>2</th>\n",
       "      <td>cat</td>\n",
       "    </tr>\n",
       "    <tr>\n",
       "      <th>3</th>\n",
       "      <td>dog</td>\n",
       "    </tr>\n",
       "    <tr>\n",
       "      <th>4</th>\n",
       "      <td>dog</td>\n",
       "    </tr>\n",
       "  </tbody>\n",
       "</table>\n",
       "</div>"
      ],
      "text/plain": [
       "     0\n",
       "0  dog\n",
       "1  dog\n",
       "2  cat\n",
       "3  dog\n",
       "4  dog"
      ]
     },
     "execution_count": 31,
     "metadata": {},
     "output_type": "execute_result"
    }
   ],
   "source": [
    "results"
   ]
  },
  {
   "cell_type": "markdown",
   "metadata": {},
   "source": [
    "## Model 2 - large dataset"
   ]
  },
  {
   "cell_type": "code",
   "execution_count": 32,
   "metadata": {
    "ExecuteTime": {
     "end_time": "2020-09-16T20:40:58.771134Z",
     "start_time": "2020-09-16T20:40:58.599978Z"
    }
   },
   "outputs": [
    {
     "name": "stdout",
     "output_type": "stream",
     "text": [
      "Found 8000 validated image filenames belonging to 2 classes.\n"
     ]
    }
   ],
   "source": [
    "large_train_datagen = ImageDataGenerator(\n",
    "    rotation_range=15,\n",
    "    rescale=1./255,\n",
    "    shear_range=0.1,\n",
    "    zoom_range=0.2,\n",
    "    horizontal_flip=True,\n",
    "    width_shift_range=0.1,\n",
    "    height_shift_range=0.1\n",
    ")\n",
    "\n",
    "large_train_generator = large_train_datagen.flow_from_dataframe(\n",
    "    large_train_df, \n",
    "    \"Data/train/\", \n",
    "    x_col='filename',\n",
    "    y_col='category',\n",
    "    target_size=IMAGE_SIZE_64,\n",
    "    class_mode='categorical',\n",
    "    batch_size=batch_size\n",
    ")"
   ]
  },
  {
   "cell_type": "code",
   "execution_count": 33,
   "metadata": {
    "ExecuteTime": {
     "end_time": "2020-09-16T20:40:58.810961Z",
     "start_time": "2020-09-16T20:40:58.772643Z"
    }
   },
   "outputs": [
    {
     "name": "stdout",
     "output_type": "stream",
     "text": [
      "Found 2000 validated image filenames belonging to 2 classes.\n"
     ]
    }
   ],
   "source": [
    "large_validation_datagen = ImageDataGenerator(rescale=1./255)\n",
    "large_validation_generator = large_validation_datagen.flow_from_dataframe(\n",
    "    large_validate_df, \n",
    "    \"Data/train/\", \n",
    "    x_col='filename',\n",
    "    y_col='category',\n",
    "    target_size=IMAGE_SIZE_64,\n",
    "    class_mode='categorical',\n",
    "    batch_size=batch_size\n",
    ")"
   ]
  },
  {
   "cell_type": "code",
   "execution_count": 34,
   "metadata": {
    "ExecuteTime": {
     "end_time": "2020-09-16T20:40:58.898308Z",
     "start_time": "2020-09-16T20:40:58.812722Z"
    }
   },
   "outputs": [],
   "source": [
    "x,y = small_train_generator.next()"
   ]
  },
  {
   "cell_type": "code",
   "execution_count": 35,
   "metadata": {
    "ExecuteTime": {
     "end_time": "2020-09-16T20:40:59.103389Z",
     "start_time": "2020-09-16T20:40:58.900700Z"
    }
   },
   "outputs": [
    {
     "data": {
      "text/plain": [
       "<matplotlib.image.AxesImage at 0x1a2dcff390>"
      ]
     },
     "execution_count": 35,
     "metadata": {},
     "output_type": "execute_result"
    },
    {
     "data": {
      "image/png": "[encoded data removed]",
      "text/plain": [
       "<Figure size 432x288 with 1 Axes>"
      ]
     },
     "metadata": {
      "needs_background": "light"
     },
     "output_type": "display_data"
    }
   ],
   "source": [
    "plt.imshow(x[0])"
   ]
  },
  {
   "cell_type": "code",
   "execution_count": 36,
   "metadata": {
    "ExecuteTime": {
     "end_time": "2020-09-16T20:40:59.579902Z",
     "start_time": "2020-09-16T20:40:59.107567Z"
    }
   },
   "outputs": [
    {
     "name": "stdout",
     "output_type": "stream",
     "text": [
      "_________________________________________________________________\n",
      "Layer (type)                 Output Shape              Param #   \n",
      "=================================================================\n",
      "conv2d_4 (Conv2D)            (None, 62, 62, 32)        896       \n",
      "_________________________________________________________________\n",
      "batch_normalization_5 (Batch (None, 62, 62, 32)        128       \n",
      "_________________________________________________________________\n",
      "max_pooling2d_4 (MaxPooling2 (None, 31, 31, 32)        0         \n",
      "_________________________________________________________________\n",
      "dropout_5 (Dropout)          (None, 31, 31, 32)        0         \n",
      "_________________________________________________________________\n",
      "conv2d_5 (Conv2D)            (None, 29, 29, 64)        18496     \n",
      "_________________________________________________________________\n",
      "batch_normalization_6 (Batch (None, 29, 29, 64)        256       \n",
      "_________________________________________________________________\n",
      "max_pooling2d_5 (MaxPooling2 (None, 14, 14, 64)        0         \n",
      "_________________________________________________________________\n",
      "dropout_6 (Dropout)          (None, 14, 14, 64)        0         \n",
      "_________________________________________________________________\n",
      "conv2d_6 (Conv2D)            (None, 12, 12, 128)       73856     \n",
      "_________________________________________________________________\n",
      "batch_normalization_7 (Batch (None, 12, 12, 128)       512       \n",
      "_________________________________________________________________\n",
      "max_pooling2d_6 (MaxPooling2 (None, 6, 6, 128)         0         \n",
      "_________________________________________________________________\n",
      "dropout_7 (Dropout)          (None, 6, 6, 128)         0         \n",
      "_________________________________________________________________\n",
      "flatten_2 (Flatten)          (None, 4608)              0         \n",
      "_________________________________________________________________\n",
      "dense_3 (Dense)              (None, 512)               2359808   \n",
      "_________________________________________________________________\n",
      "batch_normalization_8 (Batch (None, 512)               2048      \n",
      "_________________________________________________________________\n",
      "dropout_8 (Dropout)          (None, 512)               0         \n",
      "_________________________________________________________________\n",
      "dense_4 (Dense)              (None, 2)                 1026      \n",
      "=================================================================\n",
      "Total params: 2,457,026\n",
      "Trainable params: 2,455,554\n",
      "Non-trainable params: 1,472\n",
      "_________________________________________________________________\n"
     ]
    }
   ],
   "source": [
    "model = Sequential()\n",
    "\n",
    "model.add(Conv2D(32, (3, 3), activation='relu', input_shape=(64, 64, IMAGE_CHANNELS)))\n",
    "model.add(BatchNormalization())\n",
    "model.add(MaxPooling2D(pool_size=(2, 2)))\n",
    "model.add(Dropout(0.25))\n",
    "\n",
    "model.add(Conv2D(64, (3, 3), activation='relu'))\n",
    "model.add(BatchNormalization())\n",
    "model.add(MaxPooling2D(pool_size=(2, 2)))\n",
    "model.add(Dropout(0.25))\n",
    "\n",
    "model.add(Conv2D(128, (3, 3), activation='relu'))\n",
    "model.add(BatchNormalization())\n",
    "model.add(MaxPooling2D(pool_size=(2, 2)))\n",
    "model.add(Dropout(0.25))\n",
    "\n",
    "model.add(Flatten())\n",
    "model.add(Dense(512, activation='relu'))\n",
    "model.add(BatchNormalization())\n",
    "model.add(Dropout(0.5))\n",
    "model.add(Dense(2, activation='softmax')) # 2 because we have cat and dog classes\n",
    "\n",
    "model.compile(loss='categorical_crossentropy', optimizer='rmsprop', metrics=['accuracy'])\n",
    "\n",
    "model.summary()"
   ]
  },
  {
   "cell_type": "code",
   "execution_count": 37,
   "metadata": {
    "ExecuteTime": {
     "end_time": "2020-09-16T21:18:07.286327Z",
     "start_time": "2020-09-16T20:40:59.581812Z"
    }
   },
   "outputs": [
    {
     "name": "stdout",
     "output_type": "stream",
     "text": [
      "Epoch 1/25\n",
      "444/444 [==============================] - 109s 246ms/step - loss: 0.9172 - acc: 0.5891 - val_loss: 1.3531 - val_acc: 0.5310\n",
      "Epoch 2/25\n",
      "444/444 [==============================] - 89s 201ms/step - loss: 0.6596 - acc: 0.6466 - val_loss: 0.6400 - val_acc: 0.6675\n",
      "Epoch 3/25\n",
      "444/444 [==============================] - 95s 214ms/step - loss: 0.5969 - acc: 0.6967 - val_loss: 0.5597 - val_acc: 0.7124\n",
      "Epoch 4/25\n",
      "444/444 [==============================] - 92s 207ms/step - loss: 0.5650 - acc: 0.7109 - val_loss: 0.5130 - val_acc: 0.7538\n",
      "Epoch 5/25\n",
      "444/444 [==============================] - 93s 210ms/step - loss: 0.5552 - acc: 0.7284 - val_loss: 0.5739 - val_acc: 0.6978\n",
      "Epoch 6/25\n",
      "444/444 [==============================] - 100s 224ms/step - loss: 0.5320 - acc: 0.7391 - val_loss: 0.6723 - val_acc: 0.6837\n",
      "\n",
      "Epoch 00006: ReduceLROnPlateau reducing learning rate to 0.0005000000237487257.\n",
      "Epoch 7/25\n",
      "444/444 [==============================] - 101s 228ms/step - loss: 0.4795 - acc: 0.7757 - val_loss: 0.5011 - val_acc: 0.7528\n",
      "Epoch 8/25\n",
      "444/444 [==============================] - 100s 225ms/step - loss: 0.4775 - acc: 0.7731 - val_loss: 0.4483 - val_acc: 0.7881\n",
      "Epoch 9/25\n",
      "444/444 [==============================] - 90s 203ms/step - loss: 0.4579 - acc: 0.7875 - val_loss: 0.5516 - val_acc: 0.7538\n",
      "Epoch 10/25\n",
      "444/444 [==============================] - 82s 185ms/step - loss: 0.4468 - acc: 0.7912 - val_loss: 0.6754 - val_acc: 0.7427\n",
      "\n",
      "Epoch 00010: ReduceLROnPlateau reducing learning rate to 0.0002500000118743628.\n",
      "Epoch 11/25\n",
      "444/444 [==============================] - 84s 188ms/step - loss: 0.4350 - acc: 0.7974 - val_loss: 0.3933 - val_acc: 0.8194\n",
      "Epoch 12/25\n",
      "444/444 [==============================] - 82s 185ms/step - loss: 0.4240 - acc: 0.8075 - val_loss: 0.3863 - val_acc: 0.8295\n",
      "Epoch 13/25\n",
      "444/444 [==============================] - 83s 187ms/step - loss: 0.4157 - acc: 0.8099 - val_loss: 0.4280 - val_acc: 0.8037\n",
      "Epoch 14/25\n",
      "444/444 [==============================] - 84s 189ms/step - loss: 0.4136 - acc: 0.8122 - val_loss: 0.3851 - val_acc: 0.8219\n",
      "\n",
      "Epoch 00014: ReduceLROnPlateau reducing learning rate to 0.0001250000059371814.\n",
      "Epoch 15/25\n",
      "444/444 [==============================] - 83s 186ms/step - loss: 0.4008 - acc: 0.8212 - val_loss: 0.3937 - val_acc: 0.8189\n",
      "Epoch 16/25\n",
      "444/444 [==============================] - 83s 187ms/step - loss: 0.3964 - acc: 0.8249 - val_loss: 0.3581 - val_acc: 0.8335\n",
      "Epoch 17/25\n",
      "444/444 [==============================] - 82s 185ms/step - loss: 0.3954 - acc: 0.8214 - val_loss: 0.3591 - val_acc: 0.8350\n",
      "Epoch 18/25\n",
      "444/444 [==============================] - 85s 191ms/step - loss: 0.3964 - acc: 0.8215 - val_loss: 0.4611 - val_acc: 0.8068\n",
      "Epoch 19/25\n",
      "444/444 [==============================] - 84s 188ms/step - loss: 0.3951 - acc: 0.8187 - val_loss: 0.3627 - val_acc: 0.8335\n",
      "\n",
      "Epoch 00019: ReduceLROnPlateau reducing learning rate to 6.25000029685907e-05.\n",
      "Epoch 20/25\n",
      "444/444 [==============================] - 88s 198ms/step - loss: 0.3806 - acc: 0.8266 - val_loss: 0.3810 - val_acc: 0.8360\n",
      "Epoch 21/25\n",
      "444/444 [==============================] - 89s 201ms/step - loss: 0.3802 - acc: 0.8281 - val_loss: 0.3666 - val_acc: 0.8426\n",
      "Epoch 22/25\n",
      "444/444 [==============================] - 88s 197ms/step - loss: 0.3790 - acc: 0.8265 - val_loss: 0.3708 - val_acc: 0.8355\n",
      "Epoch 23/25\n",
      "444/444 [==============================] - 88s 199ms/step - loss: 0.3794 - acc: 0.8266 - val_loss: 0.3449 - val_acc: 0.8421\n",
      "\n",
      "Epoch 00023: ReduceLROnPlateau reducing learning rate to 3.125000148429535e-05.\n",
      "Epoch 24/25\n",
      "444/444 [==============================] - 87s 195ms/step - loss: 0.3764 - acc: 0.8304 - val_loss: 0.3505 - val_acc: 0.8391\n",
      "Epoch 25/25\n",
      "444/444 [==============================] - 87s 195ms/step - loss: 0.3814 - acc: 0.8266 - val_loss: 0.3561 - val_acc: 0.8345\n",
      "\n",
      "Epoch 00025: ReduceLROnPlateau reducing learning rate to 1.5625000742147677e-05.\n"
     ]
    }
   ],
   "source": [
    "epochs=25 if FAST_RUN else 50\n",
    "history = model.fit_generator(\n",
    "    large_train_generator, \n",
    "    epochs=epochs,\n",
    "    validation_data=large_validation_generator,\n",
    "    validation_steps=total_large_validate//batch_size,\n",
    "    steps_per_epoch=total_large_train//batch_size,\n",
    "    callbacks=callbacks\n",
    ")"
   ]
  },
  {
   "cell_type": "code",
   "execution_count": 38,
   "metadata": {
    "ExecuteTime": {
     "end_time": "2020-09-16T21:18:07.735127Z",
     "start_time": "2020-09-16T21:18:07.291516Z"
    }
   },
   "outputs": [
    {
     "data": {
      "image/png": "[encoded data removed]",
      "text/plain": [
       "<Figure size 864x864 with 2 Axes>"
      ]
     },
     "metadata": {
      "needs_background": "light"
     },
     "output_type": "display_data"
    }
   ],
   "source": [
    "fig, (ax1, ax2) = plt.subplots(2, 1, figsize=(12, 12))\n",
    "ax1.plot(history.history['loss'], color='b', label=\"Training loss\")\n",
    "ax1.plot(history.history['val_loss'], color='r', label=\"validation loss\")\n",
    "ax1.set_xticks(np.arange(1, epochs, 1))\n",
    "ax1.set_yticks(np.arange(0, 1, 0.1))\n",
    "\n",
    "ax2.plot(history.history['acc'], color='b', label=\"Training accuracy\")\n",
    "ax2.plot(history.history['val_acc'], color='r',label=\"Validation accuracy\")\n",
    "ax2.set_xticks(np.arange(1, epochs, 1))\n",
    "\n",
    "legend = plt.legend(loc='best', shadow=True)\n",
    "plt.tight_layout()\n",
    "plt.show()"
   ]
  },
  {
   "cell_type": "markdown",
   "metadata": {},
   "source": [
    "### OUTLIER TESTING"
   ]
  },
  {
   "cell_type": "code",
   "execution_count": 39,
   "metadata": {
    "ExecuteTime": {
     "end_time": "2020-09-16T21:18:07.746695Z",
     "start_time": "2020-09-16T21:18:07.736837Z"
    }
   },
   "outputs": [],
   "source": [
    "test_filenames = os.listdir(\"Data/outliers\")\n",
    "test_df = pd.DataFrame({\n",
    "    'filename': test_filenames\n",
    "})\n",
    "nb_samples = test_df.shape[0]"
   ]
  },
  {
   "cell_type": "code",
   "execution_count": 40,
   "metadata": {
    "ExecuteTime": {
     "end_time": "2020-09-16T21:18:07.760369Z",
     "start_time": "2020-09-16T21:18:07.748232Z"
    }
   },
   "outputs": [
    {
     "name": "stdout",
     "output_type": "stream",
     "text": [
      "Found 5 validated image filenames.\n"
     ]
    }
   ],
   "source": [
    "test_gen = ImageDataGenerator(rescale=1./255)\n",
    "test_generator = test_gen.flow_from_dataframe(\n",
    "    test_df, \n",
    "    \"Data/outliers/\", \n",
    "    x_col='filename',\n",
    "    y_col=None,\n",
    "    class_mode=None,\n",
    "    target_size=IMAGE_SIZE_64,\n",
    "    batch_size=batch_size,\n",
    "    shuffle=False\n",
    ")"
   ]
  },
  {
   "cell_type": "code",
   "execution_count": 41,
   "metadata": {
    "ExecuteTime": {
     "end_time": "2020-09-16T21:18:08.087366Z",
     "start_time": "2020-09-16T21:18:07.762215Z"
    }
   },
   "outputs": [],
   "source": [
    "predict = model.predict_generator(test_generator, steps=np.ceil(nb_samples/batch_size))"
   ]
  },
  {
   "cell_type": "code",
   "execution_count": 42,
   "metadata": {
    "ExecuteTime": {
     "end_time": "2020-09-16T21:18:08.096709Z",
     "start_time": "2020-09-16T21:18:08.088941Z"
    }
   },
   "outputs": [],
   "source": [
    "results = np.argmax(predict, axis=-1)\n",
    "label_map = dict((v,k) for k,v in large_train_generator.class_indices.items())\n",
    "results = pd.DataFrame(results).replace(label_map)"
   ]
  },
  {
   "cell_type": "code",
   "execution_count": 43,
   "metadata": {
    "ExecuteTime": {
     "end_time": "2020-09-16T21:18:08.110238Z",
     "start_time": "2020-09-16T21:18:08.099827Z"
    }
   },
   "outputs": [
    {
     "data": {
      "text/html": [
       "<div>\n",
       "<style scoped>\n",
       "    .dataframe tbody tr th:only-of-type {\n",
       "        vertical-align: middle;\n",
       "    }\n",
       "\n",
       "    .dataframe tbody tr th {\n",
       "        vertical-align: top;\n",
       "    }\n",
       "\n",
       "    .dataframe thead th {\n",
       "        text-align: right;\n",
       "    }\n",
       "</style>\n",
       "<table border=\"1\" class=\"dataframe\">\n",
       "  <thead>\n",
       "    <tr style=\"text-align: right;\">\n",
       "      <th></th>\n",
       "      <th>filename</th>\n",
       "    </tr>\n",
       "  </thead>\n",
       "  <tbody>\n",
       "    <tr>\n",
       "      <th>0</th>\n",
       "      <td>km.jpg</td>\n",
       "    </tr>\n",
       "    <tr>\n",
       "      <th>1</th>\n",
       "      <td>pb.jpg</td>\n",
       "    </tr>\n",
       "    <tr>\n",
       "      <th>2</th>\n",
       "      <td>cr.jpg</td>\n",
       "    </tr>\n",
       "    <tr>\n",
       "      <th>3</th>\n",
       "      <td>dvdb.jpg</td>\n",
       "    </tr>\n",
       "    <tr>\n",
       "      <th>4</th>\n",
       "      <td>lm.jpg</td>\n",
       "    </tr>\n",
       "  </tbody>\n",
       "</table>\n",
       "</div>"
      ],
      "text/plain": [
       "   filename\n",
       "0    km.jpg\n",
       "1    pb.jpg\n",
       "2    cr.jpg\n",
       "3  dvdb.jpg\n",
       "4    lm.jpg"
      ]
     },
     "execution_count": 43,
     "metadata": {},
     "output_type": "execute_result"
    }
   ],
   "source": [
    "test_df.head()"
   ]
  },
  {
   "cell_type": "code",
   "execution_count": 44,
   "metadata": {
    "ExecuteTime": {
     "end_time": "2020-09-16T21:18:08.122747Z",
     "start_time": "2020-09-16T21:18:08.112442Z"
    }
   },
   "outputs": [
    {
     "data": {
      "text/html": [
       "<div>\n",
       "<style scoped>\n",
       "    .dataframe tbody tr th:only-of-type {\n",
       "        vertical-align: middle;\n",
       "    }\n",
       "\n",
       "    .dataframe tbody tr th {\n",
       "        vertical-align: top;\n",
       "    }\n",
       "\n",
       "    .dataframe thead th {\n",
       "        text-align: right;\n",
       "    }\n",
       "</style>\n",
       "<table border=\"1\" class=\"dataframe\">\n",
       "  <thead>\n",
       "    <tr style=\"text-align: right;\">\n",
       "      <th></th>\n",
       "      <th>0</th>\n",
       "    </tr>\n",
       "  </thead>\n",
       "  <tbody>\n",
       "    <tr>\n",
       "      <th>0</th>\n",
       "      <td>dog</td>\n",
       "    </tr>\n",
       "    <tr>\n",
       "      <th>1</th>\n",
       "      <td>dog</td>\n",
       "    </tr>\n",
       "    <tr>\n",
       "      <th>2</th>\n",
       "      <td>dog</td>\n",
       "    </tr>\n",
       "    <tr>\n",
       "      <th>3</th>\n",
       "      <td>dog</td>\n",
       "    </tr>\n",
       "    <tr>\n",
       "      <th>4</th>\n",
       "      <td>dog</td>\n",
       "    </tr>\n",
       "  </tbody>\n",
       "</table>\n",
       "</div>"
      ],
      "text/plain": [
       "     0\n",
       "0  dog\n",
       "1  dog\n",
       "2  dog\n",
       "3  dog\n",
       "4  dog"
      ]
     },
     "execution_count": 44,
     "metadata": {},
     "output_type": "execute_result"
    }
   ],
   "source": [
    "results"
   ]
  },
  {
   "cell_type": "markdown",
   "metadata": {},
   "source": [
    "# 128x128 Resolution"
   ]
  },
  {
   "cell_type": "markdown",
   "metadata": {},
   "source": [
    "## Model 1 - small dataset"
   ]
  },
  {
   "cell_type": "code",
   "execution_count": 34,
   "metadata": {
    "ExecuteTime": {
     "end_time": "2020-09-18T13:46:06.942186Z",
     "start_time": "2020-09-18T13:46:06.922014Z"
    }
   },
   "outputs": [
    {
     "name": "stdout",
     "output_type": "stream",
     "text": [
      "Found 800 validated image filenames belonging to 2 classes.\n"
     ]
    }
   ],
   "source": [
    "small_train_datagen = ImageDataGenerator(\n",
    "    rotation_range=15,\n",
    "    rescale=1./255,\n",
    "    shear_range=0.1,\n",
    "    zoom_range=0.2,\n",
    "    horizontal_flip=True,\n",
    "    width_shift_range=0.1,\n",
    "    height_shift_range=0.1\n",
    ")\n",
    "\n",
    "small_train_generator = small_train_datagen.flow_from_dataframe(\n",
    "    small_train_df, \n",
    "    \"Data/train/\", \n",
    "    x_col='filename',\n",
    "    y_col='category',\n",
    "    target_size=IMAGE_SIZE_128,\n",
    "    class_mode='categorical',\n",
    "    batch_size=batch_size\n",
    ")"
   ]
  },
  {
   "cell_type": "code",
   "execution_count": 35,
   "metadata": {
    "ExecuteTime": {
     "end_time": "2020-09-18T13:46:07.456567Z",
     "start_time": "2020-09-18T13:46:07.443417Z"
    }
   },
   "outputs": [
    {
     "name": "stdout",
     "output_type": "stream",
     "text": [
      "Found 200 validated image filenames belonging to 2 classes.\n"
     ]
    }
   ],
   "source": [
    "small_validation_datagen = ImageDataGenerator(rescale=1./255)\n",
    "small_validation_generator = small_validation_datagen.flow_from_dataframe(\n",
    "    small_validate_df, \n",
    "    \"Data/train/\", \n",
    "    x_col='filename',\n",
    "    y_col='category',\n",
    "    target_size=IMAGE_SIZE_128,\n",
    "    class_mode='categorical',\n",
    "    batch_size=batch_size\n",
    ")"
   ]
  },
  {
   "cell_type": "code",
   "execution_count": 46,
   "metadata": {
    "ExecuteTime": {
     "end_time": "2020-09-18T13:46:53.030450Z",
     "start_time": "2020-09-18T13:46:52.853778Z"
    }
   },
   "outputs": [],
   "source": [
    "x,y = small_train_generator.next()"
   ]
  },
  {
   "cell_type": "code",
   "execution_count": 47,
   "metadata": {
    "ExecuteTime": {
     "end_time": "2020-09-18T13:46:53.319948Z",
     "start_time": "2020-09-18T13:46:53.123221Z"
    }
   },
   "outputs": [
    {
     "data": {
      "text/plain": [
       "<matplotlib.image.AxesImage at 0x1a2ff1cc18>"
      ]
     },
     "execution_count": 47,
     "metadata": {},
     "output_type": "execute_result"
    },
    {
     "data": {
      "image/png": "[encoded data removed]",
      "text/plain": [
       "<Figure size 432x288 with 1 Axes>"
      ]
     },
     "metadata": {
      "needs_background": "light"
     },
     "output_type": "display_data"
    }
   ],
   "source": [
    "plt.imshow(x[0])"
   ]
  },
  {
   "cell_type": "code",
   "execution_count": 49,
   "metadata": {
    "ExecuteTime": {
     "end_time": "2020-09-16T21:18:08.899948Z",
     "start_time": "2020-09-16T21:18:08.446465Z"
    }
   },
   "outputs": [
    {
     "name": "stdout",
     "output_type": "stream",
     "text": [
      "_________________________________________________________________\n",
      "Layer (type)                 Output Shape              Param #   \n",
      "=================================================================\n",
      "conv2d_7 (Conv2D)            (None, 126, 126, 32)      896       \n",
      "_________________________________________________________________\n",
      "batch_normalization_9 (Batch (None, 126, 126, 32)      128       \n",
      "_________________________________________________________________\n",
      "max_pooling2d_7 (MaxPooling2 (None, 63, 63, 32)        0         \n",
      "_________________________________________________________________\n",
      "dropout_9 (Dropout)          (None, 63, 63, 32)        0         \n",
      "_________________________________________________________________\n",
      "conv2d_8 (Conv2D)            (None, 61, 61, 64)        18496     \n",
      "_________________________________________________________________\n",
      "batch_normalization_10 (Batc (None, 61, 61, 64)        256       \n",
      "_________________________________________________________________\n",
      "max_pooling2d_8 (MaxPooling2 (None, 30, 30, 64)        0         \n",
      "_________________________________________________________________\n",
      "dropout_10 (Dropout)         (None, 30, 30, 64)        0         \n",
      "_________________________________________________________________\n",
      "conv2d_9 (Conv2D)            (None, 28, 28, 128)       73856     \n",
      "_________________________________________________________________\n",
      "batch_normalization_11 (Batc (None, 28, 28, 128)       512       \n",
      "_________________________________________________________________\n",
      "max_pooling2d_9 (MaxPooling2 (None, 14, 14, 128)       0         \n",
      "_________________________________________________________________\n",
      "dropout_11 (Dropout)         (None, 14, 14, 128)       0         \n",
      "_________________________________________________________________\n",
      "flatten_3 (Flatten)          (None, 25088)             0         \n",
      "_________________________________________________________________\n",
      "dense_5 (Dense)              (None, 512)               12845568  \n",
      "_________________________________________________________________\n",
      "batch_normalization_12 (Batc (None, 512)               2048      \n",
      "_________________________________________________________________\n",
      "dropout_12 (Dropout)         (None, 512)               0         \n",
      "_________________________________________________________________\n",
      "dense_6 (Dense)              (None, 2)                 1026      \n",
      "=================================================================\n",
      "Total params: 12,942,786\n",
      "Trainable params: 12,941,314\n",
      "Non-trainable params: 1,472\n",
      "_________________________________________________________________\n"
     ]
    }
   ],
   "source": [
    "model = Sequential()\n",
    "\n",
    "model.add(Conv2D(32, (3, 3), activation='relu', input_shape=(128, 128, IMAGE_CHANNELS)))\n",
    "model.add(BatchNormalization())\n",
    "model.add(MaxPooling2D(pool_size=(2, 2)))\n",
    "model.add(Dropout(0.25))\n",
    "\n",
    "model.add(Conv2D(64, (3, 3), activation='relu'))\n",
    "model.add(BatchNormalization())\n",
    "model.add(MaxPooling2D(pool_size=(2, 2)))\n",
    "model.add(Dropout(0.25))\n",
    "\n",
    "model.add(Conv2D(128, (3, 3), activation='relu'))\n",
    "model.add(BatchNormalization())\n",
    "model.add(MaxPooling2D(pool_size=(2, 2)))\n",
    "model.add(Dropout(0.25))\n",
    "\n",
    "model.add(Flatten())\n",
    "model.add(Dense(512, activation='relu'))\n",
    "model.add(BatchNormalization())\n",
    "model.add(Dropout(0.5))\n",
    "model.add(Dense(2, activation='softmax')) # 2 because we have cat and dog classes\n",
    "\n",
    "model.compile(loss='categorical_crossentropy', optimizer='rmsprop', metrics=['accuracy'])\n",
    "\n",
    "model.summary()"
   ]
  },
  {
   "cell_type": "code",
   "execution_count": 50,
   "metadata": {
    "ExecuteTime": {
     "end_time": "2020-09-16T21:28:16.151594Z",
     "start_time": "2020-09-16T21:18:08.901835Z"
    }
   },
   "outputs": [
    {
     "name": "stdout",
     "output_type": "stream",
     "text": [
      "Epoch 1/25\n",
      "44/44 [==============================] - 34s 774ms/step - loss: 1.3259 - acc: 0.5518 - val_loss: 1.4850 - val_acc: 0.5859\n",
      "Epoch 2/25\n",
      "44/44 [==============================] - 33s 744ms/step - loss: 0.9907 - acc: 0.5631 - val_loss: 1.1577 - val_acc: 0.5879\n",
      "Epoch 3/25\n",
      "44/44 [==============================] - 32s 720ms/step - loss: 0.9932 - acc: 0.5891 - val_loss: 1.4813 - val_acc: 0.5989\n",
      "Epoch 4/25\n",
      "44/44 [==============================] - 32s 721ms/step - loss: 0.9283 - acc: 0.6114 - val_loss: 0.9177 - val_acc: 0.5714\n",
      "Epoch 5/25\n",
      "44/44 [==============================] - 32s 725ms/step - loss: 0.8591 - acc: 0.6095 - val_loss: 0.8512 - val_acc: 0.5989\n",
      "\n",
      "Epoch 00005: ReduceLROnPlateau reducing learning rate to 0.0005000000237487257.\n",
      "Epoch 6/25\n",
      "44/44 [==============================] - 32s 718ms/step - loss: 0.7696 - acc: 0.6099 - val_loss: 0.5116 - val_acc: 0.7473\n",
      "Epoch 7/25\n",
      "44/44 [==============================] - 32s 719ms/step - loss: 0.7271 - acc: 0.6306 - val_loss: 0.6150 - val_acc: 0.6758\n",
      "Epoch 8/25\n",
      "44/44 [==============================] - 32s 725ms/step - loss: 0.6346 - acc: 0.6906 - val_loss: 0.6626 - val_acc: 0.6154\n",
      "\n",
      "Epoch 00008: ReduceLROnPlateau reducing learning rate to 0.0002500000118743628.\n",
      "Epoch 9/25\n",
      "44/44 [==============================] - 32s 720ms/step - loss: 0.6547 - acc: 0.6756 - val_loss: 0.4944 - val_acc: 0.7637\n",
      "Epoch 10/25\n",
      "44/44 [==============================] - 31s 715ms/step - loss: 0.5760 - acc: 0.7238 - val_loss: 0.5587 - val_acc: 0.7143\n",
      "Epoch 11/25\n",
      "44/44 [==============================] - 32s 718ms/step - loss: 0.6103 - acc: 0.6951 - val_loss: 0.5339 - val_acc: 0.7253\n",
      "\n",
      "Epoch 00011: ReduceLROnPlateau reducing learning rate to 0.0001250000059371814.\n",
      "Epoch 12/25\n",
      "44/44 [==============================] - 32s 720ms/step - loss: 0.5544 - acc: 0.7311 - val_loss: 0.5537 - val_acc: 0.7582\n",
      "Epoch 13/25\n",
      "44/44 [==============================] - 33s 741ms/step - loss: 0.5109 - acc: 0.7494 - val_loss: 0.5234 - val_acc: 0.7374\n",
      "\n",
      "Epoch 00013: ReduceLROnPlateau reducing learning rate to 6.25000029685907e-05.\n",
      "Epoch 14/25\n",
      "44/44 [==============================] - 31s 715ms/step - loss: 0.5359 - acc: 0.7440 - val_loss: 0.5332 - val_acc: 0.7637\n",
      "Epoch 15/25\n",
      "44/44 [==============================] - 32s 717ms/step - loss: 0.5320 - acc: 0.7317 - val_loss: 0.5103 - val_acc: 0.7527\n",
      "\n",
      "Epoch 00015: ReduceLROnPlateau reducing learning rate to 3.125000148429535e-05.\n",
      "Epoch 16/25\n",
      "44/44 [==============================] - 32s 722ms/step - loss: 0.5380 - acc: 0.7292 - val_loss: 0.5394 - val_acc: 0.7692\n",
      "Epoch 17/25\n",
      "44/44 [==============================] - 32s 720ms/step - loss: 0.4978 - acc: 0.7579 - val_loss: 0.6202 - val_acc: 0.6978\n",
      "Epoch 18/25\n",
      "44/44 [==============================] - 32s 721ms/step - loss: 0.5175 - acc: 0.7607 - val_loss: 0.4978 - val_acc: 0.7637\n",
      "\n",
      "Epoch 00018: ReduceLROnPlateau reducing learning rate to 1.5625000742147677e-05.\n",
      "Epoch 19/25\n",
      "44/44 [==============================] - 32s 717ms/step - loss: 0.5147 - acc: 0.7680 - val_loss: 0.5468 - val_acc: 0.7473\n"
     ]
    }
   ],
   "source": [
    "epochs=25 if FAST_RUN else 50\n",
    "history = model.fit_generator(\n",
    "    small_train_generator, \n",
    "    epochs=epochs,\n",
    "    validation_data=small_validation_generator,\n",
    "    validation_steps=total_small_validate//batch_size,\n",
    "    steps_per_epoch=total_small_train//batch_size,\n",
    "    callbacks=callbacks\n",
    ")"
   ]
  },
  {
   "cell_type": "code",
   "execution_count": 51,
   "metadata": {
    "ExecuteTime": {
     "end_time": "2020-09-16T21:28:16.539340Z",
     "start_time": "2020-09-16T21:28:16.153347Z"
    }
   },
   "outputs": [
    {
     "data": {
      "image/png": "[encoded data removed]",
      "text/plain": [
       "<Figure size 864x864 with 2 Axes>"
      ]
     },
     "metadata": {
      "needs_background": "light"
     },
     "output_type": "display_data"
    }
   ],
   "source": [
    "fig, (ax1, ax2) = plt.subplots(2, 1, figsize=(12, 12))\n",
    "ax1.plot(history.history['loss'], color='b', label=\"Training loss\")\n",
    "ax1.plot(history.history['val_loss'], color='r', label=\"validation loss\")\n",
    "ax1.set_xticks(np.arange(1, epochs, 1))\n",
    "ax1.set_yticks(np.arange(0, 1, 0.1))\n",
    "\n",
    "ax2.plot(history.history['acc'], color='b', label=\"Training accuracy\")\n",
    "ax2.plot(history.history['val_acc'], color='r',label=\"Validation accuracy\")\n",
    "ax2.set_xticks(np.arange(1, epochs, 1))\n",
    "\n",
    "legend = plt.legend(loc='best', shadow=True)\n",
    "plt.tight_layout()\n",
    "plt.show()"
   ]
  },
  {
   "cell_type": "markdown",
   "metadata": {},
   "source": [
    "### OUTLIER TESTING"
   ]
  },
  {
   "cell_type": "code",
   "execution_count": 52,
   "metadata": {
    "ExecuteTime": {
     "end_time": "2020-09-16T21:28:16.548050Z",
     "start_time": "2020-09-16T21:28:16.541486Z"
    }
   },
   "outputs": [],
   "source": [
    "test_filenames = os.listdir(\"Data/outliers\")\n",
    "test_df = pd.DataFrame({\n",
    "    'filename': test_filenames\n",
    "})\n",
    "nb_samples = test_df.shape[0]"
   ]
  },
  {
   "cell_type": "code",
   "execution_count": 53,
   "metadata": {
    "ExecuteTime": {
     "end_time": "2020-09-16T21:28:16.557376Z",
     "start_time": "2020-09-16T21:28:16.549824Z"
    }
   },
   "outputs": [
    {
     "name": "stdout",
     "output_type": "stream",
     "text": [
      "Found 5 validated image filenames.\n"
     ]
    }
   ],
   "source": [
    "test_gen = ImageDataGenerator(rescale=1./255)\n",
    "test_generator = test_gen.flow_from_dataframe(\n",
    "    test_df, \n",
    "    \"Data/outliers/\", \n",
    "    x_col='filename',\n",
    "    y_col=None,\n",
    "    class_mode=None,\n",
    "    target_size=IMAGE_SIZE_128,\n",
    "    batch_size=batch_size,\n",
    "    shuffle=False\n",
    ")"
   ]
  },
  {
   "cell_type": "code",
   "execution_count": 54,
   "metadata": {
    "ExecuteTime": {
     "end_time": "2020-09-16T21:28:16.927787Z",
     "start_time": "2020-09-16T21:28:16.559446Z"
    }
   },
   "outputs": [],
   "source": [
    "predict = model.predict_generator(test_generator, steps=np.ceil(nb_samples/batch_size))"
   ]
  },
  {
   "cell_type": "code",
   "execution_count": 55,
   "metadata": {
    "ExecuteTime": {
     "end_time": "2020-09-16T21:28:16.934667Z",
     "start_time": "2020-09-16T21:28:16.929448Z"
    }
   },
   "outputs": [],
   "source": [
    "results = np.argmax(predict, axis=-1)\n",
    "label_map = dict((v,k) for k,v in small_train_generator.class_indices.items())\n",
    "results = pd.DataFrame(results).replace(label_map)"
   ]
  },
  {
   "cell_type": "code",
   "execution_count": 56,
   "metadata": {
    "ExecuteTime": {
     "end_time": "2020-09-16T21:28:16.945996Z",
     "start_time": "2020-09-16T21:28:16.936723Z"
    }
   },
   "outputs": [
    {
     "data": {
      "text/html": [
       "<div>\n",
       "<style scoped>\n",
       "    .dataframe tbody tr th:only-of-type {\n",
       "        vertical-align: middle;\n",
       "    }\n",
       "\n",
       "    .dataframe tbody tr th {\n",
       "        vertical-align: top;\n",
       "    }\n",
       "\n",
       "    .dataframe thead th {\n",
       "        text-align: right;\n",
       "    }\n",
       "</style>\n",
       "<table border=\"1\" class=\"dataframe\">\n",
       "  <thead>\n",
       "    <tr style=\"text-align: right;\">\n",
       "      <th></th>\n",
       "      <th>filename</th>\n",
       "    </tr>\n",
       "  </thead>\n",
       "  <tbody>\n",
       "    <tr>\n",
       "      <th>0</th>\n",
       "      <td>km.jpg</td>\n",
       "    </tr>\n",
       "    <tr>\n",
       "      <th>1</th>\n",
       "      <td>pb.jpg</td>\n",
       "    </tr>\n",
       "    <tr>\n",
       "      <th>2</th>\n",
       "      <td>cr.jpg</td>\n",
       "    </tr>\n",
       "    <tr>\n",
       "      <th>3</th>\n",
       "      <td>dvdb.jpg</td>\n",
       "    </tr>\n",
       "    <tr>\n",
       "      <th>4</th>\n",
       "      <td>lm.jpg</td>\n",
       "    </tr>\n",
       "  </tbody>\n",
       "</table>\n",
       "</div>"
      ],
      "text/plain": [
       "   filename\n",
       "0    km.jpg\n",
       "1    pb.jpg\n",
       "2    cr.jpg\n",
       "3  dvdb.jpg\n",
       "4    lm.jpg"
      ]
     },
     "execution_count": 56,
     "metadata": {},
     "output_type": "execute_result"
    }
   ],
   "source": [
    "test_df.head()"
   ]
  },
  {
   "cell_type": "code",
   "execution_count": 57,
   "metadata": {
    "ExecuteTime": {
     "end_time": "2020-09-16T21:28:16.963475Z",
     "start_time": "2020-09-16T21:28:16.947867Z"
    }
   },
   "outputs": [
    {
     "data": {
      "text/html": [
       "<div>\n",
       "<style scoped>\n",
       "    .dataframe tbody tr th:only-of-type {\n",
       "        vertical-align: middle;\n",
       "    }\n",
       "\n",
       "    .dataframe tbody tr th {\n",
       "        vertical-align: top;\n",
       "    }\n",
       "\n",
       "    .dataframe thead th {\n",
       "        text-align: right;\n",
       "    }\n",
       "</style>\n",
       "<table border=\"1\" class=\"dataframe\">\n",
       "  <thead>\n",
       "    <tr style=\"text-align: right;\">\n",
       "      <th></th>\n",
       "      <th>0</th>\n",
       "    </tr>\n",
       "  </thead>\n",
       "  <tbody>\n",
       "    <tr>\n",
       "      <th>0</th>\n",
       "      <td>dog</td>\n",
       "    </tr>\n",
       "    <tr>\n",
       "      <th>1</th>\n",
       "      <td>dog</td>\n",
       "    </tr>\n",
       "    <tr>\n",
       "      <th>2</th>\n",
       "      <td>dog</td>\n",
       "    </tr>\n",
       "    <tr>\n",
       "      <th>3</th>\n",
       "      <td>dog</td>\n",
       "    </tr>\n",
       "    <tr>\n",
       "      <th>4</th>\n",
       "      <td>dog</td>\n",
       "    </tr>\n",
       "  </tbody>\n",
       "</table>\n",
       "</div>"
      ],
      "text/plain": [
       "     0\n",
       "0  dog\n",
       "1  dog\n",
       "2  dog\n",
       "3  dog\n",
       "4  dog"
      ]
     },
     "execution_count": 57,
     "metadata": {},
     "output_type": "execute_result"
    }
   ],
   "source": [
    "results"
   ]
  },
  {
   "cell_type": "markdown",
   "metadata": {},
   "source": [
    "## Model 2 - large dataset"
   ]
  },
  {
   "cell_type": "code",
   "execution_count": 58,
   "metadata": {
    "ExecuteTime": {
     "end_time": "2020-09-16T21:28:17.069781Z",
     "start_time": "2020-09-16T21:28:16.965265Z"
    }
   },
   "outputs": [
    {
     "name": "stdout",
     "output_type": "stream",
     "text": [
      "Found 8000 validated image filenames belonging to 2 classes.\n"
     ]
    }
   ],
   "source": [
    "large_train_datagen = ImageDataGenerator(\n",
    "    rotation_range=15,\n",
    "    rescale=1./255,\n",
    "    shear_range=0.1,\n",
    "    zoom_range=0.2,\n",
    "    horizontal_flip=True,\n",
    "    width_shift_range=0.1,\n",
    "    height_shift_range=0.1\n",
    ")\n",
    "\n",
    "large_train_generator = large_train_datagen.flow_from_dataframe(\n",
    "    large_train_df, \n",
    "    \"Data/train/\", \n",
    "    x_col='filename',\n",
    "    y_col='category',\n",
    "    target_size=IMAGE_SIZE_128,\n",
    "    class_mode='categorical',\n",
    "    batch_size=batch_size\n",
    ")"
   ]
  },
  {
   "cell_type": "code",
   "execution_count": 59,
   "metadata": {
    "ExecuteTime": {
     "end_time": "2020-09-16T21:28:17.100185Z",
     "start_time": "2020-09-16T21:28:17.071260Z"
    }
   },
   "outputs": [
    {
     "name": "stdout",
     "output_type": "stream",
     "text": [
      "Found 2000 validated image filenames belonging to 2 classes.\n"
     ]
    }
   ],
   "source": [
    "large_validation_datagen = ImageDataGenerator(rescale=1./255)\n",
    "large_validation_generator = large_validation_datagen.flow_from_dataframe(\n",
    "    large_validate_df, \n",
    "    \"Data/train/\", \n",
    "    x_col='filename',\n",
    "    y_col='category',\n",
    "    target_size=IMAGE_SIZE_128,\n",
    "    class_mode='categorical',\n",
    "    batch_size=batch_size\n",
    ")"
   ]
  },
  {
   "cell_type": "code",
   "execution_count": 60,
   "metadata": {
    "ExecuteTime": {
     "end_time": "2020-09-16T21:28:17.226267Z",
     "start_time": "2020-09-16T21:28:17.102311Z"
    }
   },
   "outputs": [],
   "source": [
    "x,y = small_train_generator.next()"
   ]
  },
  {
   "cell_type": "code",
   "execution_count": 61,
   "metadata": {
    "ExecuteTime": {
     "end_time": "2020-09-16T21:28:17.376641Z",
     "start_time": "2020-09-16T21:28:17.228317Z"
    }
   },
   "outputs": [
    {
     "data": {
      "text/plain": [
       "<matplotlib.image.AxesImage at 0x115e5cc88>"
      ]
     },
     "execution_count": 61,
     "metadata": {},
     "output_type": "execute_result"
    },
    {
     "data": {
      "image/png": "[encoded data removed]",
      "text/plain": [
       "<Figure size 432x288 with 1 Axes>"
      ]
     },
     "metadata": {
      "needs_background": "light"
     },
     "output_type": "display_data"
    }
   ],
   "source": [
    "plt.imshow(x[0])"
   ]
  },
  {
   "cell_type": "code",
   "execution_count": 62,
   "metadata": {
    "ExecuteTime": {
     "end_time": "2020-09-16T21:28:17.782185Z",
     "start_time": "2020-09-16T21:28:17.378452Z"
    }
   },
   "outputs": [
    {
     "name": "stdout",
     "output_type": "stream",
     "text": [
      "_________________________________________________________________\n",
      "Layer (type)                 Output Shape              Param #   \n",
      "=================================================================\n",
      "conv2d_10 (Conv2D)           (None, 126, 126, 32)      896       \n",
      "_________________________________________________________________\n",
      "batch_normalization_13 (Batc (None, 126, 126, 32)      128       \n",
      "_________________________________________________________________\n",
      "max_pooling2d_10 (MaxPooling (None, 63, 63, 32)        0         \n",
      "_________________________________________________________________\n",
      "dropout_13 (Dropout)         (None, 63, 63, 32)        0         \n",
      "_________________________________________________________________\n",
      "conv2d_11 (Conv2D)           (None, 61, 61, 64)        18496     \n",
      "_________________________________________________________________\n",
      "batch_normalization_14 (Batc (None, 61, 61, 64)        256       \n",
      "_________________________________________________________________\n",
      "max_pooling2d_11 (MaxPooling (None, 30, 30, 64)        0         \n",
      "_________________________________________________________________\n",
      "dropout_14 (Dropout)         (None, 30, 30, 64)        0         \n",
      "_________________________________________________________________\n",
      "conv2d_12 (Conv2D)           (None, 28, 28, 128)       73856     \n",
      "_________________________________________________________________\n",
      "batch_normalization_15 (Batc (None, 28, 28, 128)       512       \n",
      "_________________________________________________________________\n",
      "max_pooling2d_12 (MaxPooling (None, 14, 14, 128)       0         \n",
      "_________________________________________________________________\n",
      "dropout_15 (Dropout)         (None, 14, 14, 128)       0         \n",
      "_________________________________________________________________\n",
      "flatten_4 (Flatten)          (None, 25088)             0         \n",
      "_________________________________________________________________\n",
      "dense_7 (Dense)              (None, 512)               12845568  \n",
      "_________________________________________________________________\n",
      "batch_normalization_16 (Batc (None, 512)               2048      \n",
      "_________________________________________________________________\n",
      "dropout_16 (Dropout)         (None, 512)               0         \n",
      "_________________________________________________________________\n",
      "dense_8 (Dense)              (None, 2)                 1026      \n",
      "=================================================================\n",
      "Total params: 12,942,786\n",
      "Trainable params: 12,941,314\n",
      "Non-trainable params: 1,472\n",
      "_________________________________________________________________\n"
     ]
    }
   ],
   "source": [
    "model = Sequential()\n",
    "\n",
    "model.add(Conv2D(32, (3, 3), activation='relu', input_shape=(128, 128, IMAGE_CHANNELS)))\n",
    "model.add(BatchNormalization())\n",
    "model.add(MaxPooling2D(pool_size=(2, 2)))\n",
    "model.add(Dropout(0.25))\n",
    "\n",
    "model.add(Conv2D(64, (3, 3), activation='relu'))\n",
    "model.add(BatchNormalization())\n",
    "model.add(MaxPooling2D(pool_size=(2, 2)))\n",
    "model.add(Dropout(0.25))\n",
    "\n",
    "model.add(Conv2D(128, (3, 3), activation='relu'))\n",
    "model.add(BatchNormalization())\n",
    "model.add(MaxPooling2D(pool_size=(2, 2)))\n",
    "model.add(Dropout(0.25))\n",
    "\n",
    "model.add(Flatten())\n",
    "model.add(Dense(512, activation='relu'))\n",
    "model.add(BatchNormalization())\n",
    "model.add(Dropout(0.5))\n",
    "model.add(Dense(2, activation='softmax')) # 2 because we have cat and dog classes\n",
    "\n",
    "model.compile(loss='categorical_crossentropy', optimizer='rmsprop', metrics=['accuracy'])\n",
    "\n",
    "model.summary()"
   ]
  },
  {
   "cell_type": "code",
   "execution_count": 63,
   "metadata": {
    "ExecuteTime": {
     "end_time": "2020-09-17T00:01:16.343712Z",
     "start_time": "2020-09-16T21:28:17.784630Z"
    }
   },
   "outputs": [
    {
     "name": "stdout",
     "output_type": "stream",
     "text": [
      "Epoch 1/25\n",
      "444/444 [==============================] - 321s 724ms/step - loss: 0.8955 - acc: 0.5946 - val_loss: 0.8606 - val_acc: 0.5976\n",
      "Epoch 2/25\n",
      "444/444 [==============================] - 318s 715ms/step - loss: 0.6302 - acc: 0.6671 - val_loss: 0.7649 - val_acc: 0.6196\n",
      "Epoch 3/25\n",
      "444/444 [==============================] - 317s 714ms/step - loss: 0.5731 - acc: 0.7063 - val_loss: 0.5811 - val_acc: 0.7099\n",
      "Epoch 4/25\n",
      "444/444 [==============================] - 330s 743ms/step - loss: 0.5508 - acc: 0.7260 - val_loss: 0.5807 - val_acc: 0.6978\n",
      "Epoch 5/25\n",
      "444/444 [==============================] - 455s 1s/step - loss: 0.5224 - acc: 0.7496 - val_loss: 0.5230 - val_acc: 0.7417\n",
      "Epoch 6/25\n",
      "444/444 [==============================] - 363s 818ms/step - loss: 0.5045 - acc: 0.7595 - val_loss: 0.6578 - val_acc: 0.7023\n",
      "Epoch 7/25\n",
      "444/444 [==============================] - 345s 778ms/step - loss: 0.5015 - acc: 0.7609 - val_loss: 0.5495 - val_acc: 0.7427\n",
      "Epoch 8/25\n",
      "444/444 [==============================] - 360s 811ms/step - loss: 0.4819 - acc: 0.7747 - val_loss: 0.5759 - val_acc: 0.6978\n",
      "Epoch 9/25\n",
      "444/444 [==============================] - 358s 807ms/step - loss: 0.4639 - acc: 0.7875 - val_loss: 0.5436 - val_acc: 0.7381\n",
      "\n",
      "Epoch 00009: ReduceLROnPlateau reducing learning rate to 0.0005000000237487257.\n",
      "Epoch 10/25\n",
      "444/444 [==============================] - 362s 814ms/step - loss: 0.4275 - acc: 0.8030 - val_loss: 0.4298 - val_acc: 0.8153\n",
      "Epoch 11/25\n",
      "444/444 [==============================] - 348s 784ms/step - loss: 0.4169 - acc: 0.8085 - val_loss: 0.4541 - val_acc: 0.7947\n",
      "Epoch 12/25\n",
      "444/444 [==============================] - 364s 819ms/step - loss: 0.4008 - acc: 0.8204 - val_loss: 0.3783 - val_acc: 0.8310\n",
      "Epoch 13/25\n",
      "444/444 [==============================] - 357s 804ms/step - loss: 0.3965 - acc: 0.8233 - val_loss: 0.3574 - val_acc: 0.8486\n",
      "Epoch 14/25\n",
      "444/444 [==============================] - 349s 786ms/step - loss: 0.3790 - acc: 0.8339 - val_loss: 0.7061 - val_acc: 0.7392\n",
      "Epoch 15/25\n",
      "444/444 [==============================] - 390s 878ms/step - loss: 0.3822 - acc: 0.8340 - val_loss: 0.3592 - val_acc: 0.8375\n",
      "\n",
      "Epoch 00015: ReduceLROnPlateau reducing learning rate to 0.0002500000118743628.\n",
      "Epoch 16/25\n",
      "444/444 [==============================] - 362s 815ms/step - loss: 0.3534 - acc: 0.8444 - val_loss: 0.3213 - val_acc: 0.8547\n",
      "Epoch 17/25\n",
      "444/444 [==============================] - 378s 850ms/step - loss: 0.3460 - acc: 0.8547 - val_loss: 0.3566 - val_acc: 0.8557\n",
      "Epoch 18/25\n",
      "444/444 [==============================] - 393s 885ms/step - loss: 0.3370 - acc: 0.8552 - val_loss: 0.2823 - val_acc: 0.8764\n",
      "Epoch 19/25\n",
      "444/444 [==============================] - 383s 863ms/step - loss: 0.3264 - acc: 0.8600 - val_loss: 0.2890 - val_acc: 0.8739\n",
      "Epoch 20/25\n",
      "444/444 [==============================] - 411s 927ms/step - loss: 0.3274 - acc: 0.8626 - val_loss: 0.3012 - val_acc: 0.8718\n",
      "\n",
      "Epoch 00020: ReduceLROnPlateau reducing learning rate to 0.0001250000059371814.\n",
      "Epoch 21/25\n",
      "444/444 [==============================] - 371s 835ms/step - loss: 0.3138 - acc: 0.8663 - val_loss: 0.2961 - val_acc: 0.8648\n",
      "Epoch 22/25\n",
      "444/444 [==============================] - 414s 932ms/step - loss: 0.3131 - acc: 0.8669 - val_loss: 0.2817 - val_acc: 0.8860\n",
      "Epoch 23/25\n",
      "444/444 [==============================] - 398s 895ms/step - loss: 0.3051 - acc: 0.8726 - val_loss: 0.2939 - val_acc: 0.8759\n",
      "Epoch 24/25\n",
      "444/444 [==============================] - 354s 797ms/step - loss: 0.3019 - acc: 0.8695 - val_loss: 0.2732 - val_acc: 0.8814\n",
      "\n",
      "Epoch 00024: ReduceLROnPlateau reducing learning rate to 6.25000029685907e-05.\n",
      "Epoch 25/25\n",
      "444/444 [==============================] - 377s 849ms/step - loss: 0.3070 - acc: 0.8743 - val_loss: 0.2586 - val_acc: 0.8966\n"
     ]
    }
   ],
   "source": [
    "epochs=25 if FAST_RUN else 50\n",
    "history = model.fit_generator(\n",
    "    large_train_generator, \n",
    "    epochs=epochs,\n",
    "    validation_data=large_validation_generator,\n",
    "    validation_steps=total_large_validate//batch_size,\n",
    "    steps_per_epoch=total_large_train//batch_size,\n",
    "    callbacks=callbacks\n",
    ")"
   ]
  },
  {
   "cell_type": "code",
   "execution_count": 64,
   "metadata": {
    "ExecuteTime": {
     "end_time": "2020-09-17T00:01:16.897026Z",
     "start_time": "2020-09-17T00:01:16.357071Z"
    }
   },
   "outputs": [
    {
     "data": {
      "image/png": "[encoded data removed]",
      "text/plain": [
       "<Figure size 864x864 with 2 Axes>"
      ]
     },
     "metadata": {
      "needs_background": "light"
     },
     "output_type": "display_data"
    }
   ],
   "source": [
    "fig, (ax1, ax2) = plt.subplots(2, 1, figsize=(12, 12))\n",
    "ax1.plot(history.history['loss'], color='b', label=\"Training loss\")\n",
    "ax1.plot(history.history['val_loss'], color='r', label=\"validation loss\")\n",
    "ax1.set_xticks(np.arange(1, epochs, 1))\n",
    "ax1.set_yticks(np.arange(0, 1, 0.1))\n",
    "\n",
    "ax2.plot(history.history['acc'], color='b', label=\"Training accuracy\")\n",
    "ax2.plot(history.history['val_acc'], color='r',label=\"Validation accuracy\")\n",
    "ax2.set_xticks(np.arange(1, epochs, 1))\n",
    "\n",
    "legend = plt.legend(loc='best', shadow=True)\n",
    "plt.tight_layout()\n",
    "plt.show()"
   ]
  },
  {
   "cell_type": "markdown",
   "metadata": {},
   "source": [
    "### OUTLIER TESTING"
   ]
  },
  {
   "cell_type": "code",
   "execution_count": 65,
   "metadata": {
    "ExecuteTime": {
     "end_time": "2020-09-17T00:01:16.910140Z",
     "start_time": "2020-09-17T00:01:16.899718Z"
    }
   },
   "outputs": [],
   "source": [
    "test_filenames = os.listdir(\"Data/outliers\")\n",
    "test_df = pd.DataFrame({\n",
    "    'filename': test_filenames\n",
    "})\n",
    "nb_samples = test_df.shape[0]"
   ]
  },
  {
   "cell_type": "code",
   "execution_count": 66,
   "metadata": {
    "ExecuteTime": {
     "end_time": "2020-09-17T00:01:16.928998Z",
     "start_time": "2020-09-17T00:01:16.912852Z"
    }
   },
   "outputs": [
    {
     "name": "stdout",
     "output_type": "stream",
     "text": [
      "Found 5 validated image filenames.\n"
     ]
    }
   ],
   "source": [
    "test_gen = ImageDataGenerator(rescale=1./255)\n",
    "test_generator = test_gen.flow_from_dataframe(\n",
    "    test_df, \n",
    "    \"Data/outliers/\", \n",
    "    x_col='filename',\n",
    "    y_col=None,\n",
    "    class_mode=None,\n",
    "    target_size=IMAGE_SIZE_128,\n",
    "    batch_size=batch_size,\n",
    "    shuffle=False\n",
    ")"
   ]
  },
  {
   "cell_type": "code",
   "execution_count": 67,
   "metadata": {
    "ExecuteTime": {
     "end_time": "2020-09-17T00:01:17.454479Z",
     "start_time": "2020-09-17T00:01:16.931437Z"
    }
   },
   "outputs": [],
   "source": [
    "predict = model.predict_generator(test_generator, steps=np.ceil(nb_samples/batch_size))"
   ]
  },
  {
   "cell_type": "code",
   "execution_count": 68,
   "metadata": {
    "ExecuteTime": {
     "end_time": "2020-09-17T00:01:17.469571Z",
     "start_time": "2020-09-17T00:01:17.457843Z"
    }
   },
   "outputs": [],
   "source": [
    "results = np.argmax(predict, axis=-1)\n",
    "label_map = dict((v,k) for k,v in large_train_generator.class_indices.items())\n",
    "results = pd.DataFrame(results).replace(label_map)"
   ]
  },
  {
   "cell_type": "code",
   "execution_count": 69,
   "metadata": {
    "ExecuteTime": {
     "end_time": "2020-09-17T00:01:17.481361Z",
     "start_time": "2020-09-17T00:01:17.471879Z"
    }
   },
   "outputs": [
    {
     "data": {
      "text/html": [
       "<div>\n",
       "<style scoped>\n",
       "    .dataframe tbody tr th:only-of-type {\n",
       "        vertical-align: middle;\n",
       "    }\n",
       "\n",
       "    .dataframe tbody tr th {\n",
       "        vertical-align: top;\n",
       "    }\n",
       "\n",
       "    .dataframe thead th {\n",
       "        text-align: right;\n",
       "    }\n",
       "</style>\n",
       "<table border=\"1\" class=\"dataframe\">\n",
       "  <thead>\n",
       "    <tr style=\"text-align: right;\">\n",
       "      <th></th>\n",
       "      <th>filename</th>\n",
       "    </tr>\n",
       "  </thead>\n",
       "  <tbody>\n",
       "    <tr>\n",
       "      <th>0</th>\n",
       "      <td>km.jpg</td>\n",
       "    </tr>\n",
       "    <tr>\n",
       "      <th>1</th>\n",
       "      <td>pb.jpg</td>\n",
       "    </tr>\n",
       "    <tr>\n",
       "      <th>2</th>\n",
       "      <td>cr.jpg</td>\n",
       "    </tr>\n",
       "    <tr>\n",
       "      <th>3</th>\n",
       "      <td>dvdb.jpg</td>\n",
       "    </tr>\n",
       "    <tr>\n",
       "      <th>4</th>\n",
       "      <td>lm.jpg</td>\n",
       "    </tr>\n",
       "  </tbody>\n",
       "</table>\n",
       "</div>"
      ],
      "text/plain": [
       "   filename\n",
       "0    km.jpg\n",
       "1    pb.jpg\n",
       "2    cr.jpg\n",
       "3  dvdb.jpg\n",
       "4    lm.jpg"
      ]
     },
     "execution_count": 69,
     "metadata": {},
     "output_type": "execute_result"
    }
   ],
   "source": [
    "test_df.head()"
   ]
  },
  {
   "cell_type": "code",
   "execution_count": 70,
   "metadata": {
    "ExecuteTime": {
     "end_time": "2020-09-17T00:01:17.492966Z",
     "start_time": "2020-09-17T00:01:17.483769Z"
    }
   },
   "outputs": [
    {
     "data": {
      "text/html": [
       "<div>\n",
       "<style scoped>\n",
       "    .dataframe tbody tr th:only-of-type {\n",
       "        vertical-align: middle;\n",
       "    }\n",
       "\n",
       "    .dataframe tbody tr th {\n",
       "        vertical-align: top;\n",
       "    }\n",
       "\n",
       "    .dataframe thead th {\n",
       "        text-align: right;\n",
       "    }\n",
       "</style>\n",
       "<table border=\"1\" class=\"dataframe\">\n",
       "  <thead>\n",
       "    <tr style=\"text-align: right;\">\n",
       "      <th></th>\n",
       "      <th>0</th>\n",
       "    </tr>\n",
       "  </thead>\n",
       "  <tbody>\n",
       "    <tr>\n",
       "      <th>0</th>\n",
       "      <td>dog</td>\n",
       "    </tr>\n",
       "    <tr>\n",
       "      <th>1</th>\n",
       "      <td>dog</td>\n",
       "    </tr>\n",
       "    <tr>\n",
       "      <th>2</th>\n",
       "      <td>cat</td>\n",
       "    </tr>\n",
       "    <tr>\n",
       "      <th>3</th>\n",
       "      <td>dog</td>\n",
       "    </tr>\n",
       "    <tr>\n",
       "      <th>4</th>\n",
       "      <td>dog</td>\n",
       "    </tr>\n",
       "  </tbody>\n",
       "</table>\n",
       "</div>"
      ],
      "text/plain": [
       "     0\n",
       "0  dog\n",
       "1  dog\n",
       "2  cat\n",
       "3  dog\n",
       "4  dog"
      ]
     },
     "execution_count": 70,
     "metadata": {},
     "output_type": "execute_result"
    }
   ],
   "source": [
    "results"
   ]
  },
  {
   "cell_type": "code",
   "execution_count": null,
   "metadata": {},
   "outputs": [],
   "source": []
  }
 ],
 "metadata": {
  "kernelspec": {
   "display_name": "Python 3",
   "language": "python",
   "name": "python3"
  },
  "language_info": {
   "codemirror_mode": {
    "name": "ipython",
    "version": 3
   },
   "file_extension": ".py",
   "mimetype": "text/x-python",
   "name": "python",
   "nbconvert_exporter": "python",
   "pygments_lexer": "ipython3",
   "version": "3.7.3"
  }
 },
 "nbformat": 4,
 "nbformat_minor": 2
}
